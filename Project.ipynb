{
 "cells": [
  {
   "cell_type": "markdown",
   "id": "017cd5b5-64bf-413b-9e2e-0b879271f1de",
   "metadata": {},
   "source": [
    "## Section 2"
   ]
  },
  {
   "cell_type": "code",
   "execution_count": 1,
   "id": "2940bd7c-e2a1-4bab-9ab5-811acd1ab3e4",
   "metadata": {},
   "outputs": [],
   "source": [
    "import pandas as pd\n",
    "import seaborn as sns\n",
    "import numpy as np"
   ]
  },
  {
   "cell_type": "code",
   "execution_count": 2,
   "id": "17528602-0afb-46aa-a852-44e9e5988cdd",
   "metadata": {},
   "outputs": [
    {
     "name": "stdout",
     "output_type": "stream",
     "text": [
      "     Age     Sex  Job Housing Saving accounts Checking account  Credit amount  \\\n",
      "0     67    male    2     own             NaN           little           1169   \n",
      "1     22  female    2     own          little         moderate           5951   \n",
      "2     49    male    1     own          little              NaN           2096   \n",
      "3     45    male    2    free          little           little           7882   \n",
      "4     53    male    2    free          little           little           4870   \n",
      "..   ...     ...  ...     ...             ...              ...            ...   \n",
      "995   31  female    1     own          little              NaN           1736   \n",
      "996   40    male    3     own          little           little           3857   \n",
      "997   38    male    2     own          little              NaN            804   \n",
      "998   23    male    2    free          little           little           1845   \n",
      "999   27    male    2     own        moderate         moderate           4576   \n",
      "\n",
      "     Duration              Purpose  Risk  \n",
      "0           6             radio/TV  good  \n",
      "1          48             radio/TV   bad  \n",
      "2          12            education  good  \n",
      "3          42  furniture/equipment  good  \n",
      "4          24                  car   bad  \n",
      "..        ...                  ...   ...  \n",
      "995        12  furniture/equipment  good  \n",
      "996        30                  car  good  \n",
      "997        12             radio/TV  good  \n",
      "998        45             radio/TV   bad  \n",
      "999        45                  car  good  \n",
      "\n",
      "[1000 rows x 10 columns]\n"
     ]
    }
   ],
   "source": [
    "preData = pd.read_csv(\"german_credit_data.csv\", low_memory=False, index_col = 0)\n",
    "print(preData)"
   ]
  },
  {
   "cell_type": "code",
   "execution_count": 3,
   "id": "19c32256-b4c7-4154-b7ce-0cfb0a5dcc0f",
   "metadata": {},
   "outputs": [
    {
     "data": {
      "text/plain": [
       "Sex\n",
       "female    310\n",
       "male      690\n",
       "Name: Risk, dtype: int64"
      ]
     },
     "execution_count": 3,
     "metadata": {},
     "output_type": "execute_result"
    }
   ],
   "source": [
    "a = preData.groupby(\"Sex\")[\"Risk\"]\n",
    "a.count()"
   ]
  },
  {
   "cell_type": "code",
   "execution_count": 4,
   "id": "de08bdcd-1192-41f5-9320-afc12e2e612c",
   "metadata": {},
   "outputs": [
    {
     "name": "stdout",
     "output_type": "stream",
     "text": [
      "0.6483870967741936\n",
      "0.7231884057971014\n"
     ]
    }
   ],
   "source": [
    "fg = preData.query(\"Sex == 'female' and Risk == 'good'\")\n",
    "fb = preData.query(\"Sex == 'female' and Risk == 'bad'\")\n",
    "mg = preData.query(\"Sex == 'male' and Risk == 'good'\")\n",
    "mb = preData.query(\"Sex == 'male' and Risk == 'bad'\")\n",
    "\n",
    "ft = preData.query(\"Sex == 'female'\")\n",
    "mt = preData.query(\"Sex == 'male'\")\n",
    "\n",
    "nfg = len(fg)\n",
    "nfb = len(fb)\n",
    "nmg = len(mg)\n",
    "nmb = len(mb)\n",
    "\n",
    "nft = len(fg) + len(fb)\n",
    "nmt = len(mg) + len(mb)\n",
    "\n",
    "#print(nft)\n",
    "#print(nmt)\n",
    "\n",
    "print(nfg / nft)\n",
    "print(nmg / nmt)"
   ]
  },
  {
   "cell_type": "code",
   "execution_count": 5,
   "id": "8127ca07-5236-4559-825e-eb5b1a7517df",
   "metadata": {},
   "outputs": [
    {
     "data": {
      "text/html": [
       "<div>\n",
       "<style scoped>\n",
       "    .dataframe tbody tr th:only-of-type {\n",
       "        vertical-align: middle;\n",
       "    }\n",
       "\n",
       "    .dataframe tbody tr th {\n",
       "        vertical-align: top;\n",
       "    }\n",
       "\n",
       "    .dataframe thead th {\n",
       "        text-align: right;\n",
       "    }\n",
       "</style>\n",
       "<table border=\"1\" class=\"dataframe\">\n",
       "  <thead>\n",
       "    <tr style=\"text-align: right;\">\n",
       "      <th></th>\n",
       "      <th>Age</th>\n",
       "      <th>Job</th>\n",
       "      <th>Credit amount</th>\n",
       "      <th>Duration</th>\n",
       "    </tr>\n",
       "  </thead>\n",
       "  <tbody>\n",
       "    <tr>\n",
       "      <th>count</th>\n",
       "      <td>310.000000</td>\n",
       "      <td>310.000000</td>\n",
       "      <td>310.000000</td>\n",
       "      <td>310.000000</td>\n",
       "    </tr>\n",
       "    <tr>\n",
       "      <th>mean</th>\n",
       "      <td>32.803226</td>\n",
       "      <td>1.835484</td>\n",
       "      <td>2877.774194</td>\n",
       "      <td>19.438710</td>\n",
       "    </tr>\n",
       "    <tr>\n",
       "      <th>std</th>\n",
       "      <td>11.754363</td>\n",
       "      <td>0.674572</td>\n",
       "      <td>2603.141613</td>\n",
       "      <td>11.048047</td>\n",
       "    </tr>\n",
       "    <tr>\n",
       "      <th>min</th>\n",
       "      <td>19.000000</td>\n",
       "      <td>0.000000</td>\n",
       "      <td>250.000000</td>\n",
       "      <td>4.000000</td>\n",
       "    </tr>\n",
       "    <tr>\n",
       "      <th>25%</th>\n",
       "      <td>24.000000</td>\n",
       "      <td>2.000000</td>\n",
       "      <td>1247.500000</td>\n",
       "      <td>12.000000</td>\n",
       "    </tr>\n",
       "    <tr>\n",
       "      <th>50%</th>\n",
       "      <td>29.000000</td>\n",
       "      <td>2.000000</td>\n",
       "      <td>1959.000000</td>\n",
       "      <td>18.000000</td>\n",
       "    </tr>\n",
       "    <tr>\n",
       "      <th>75%</th>\n",
       "      <td>37.000000</td>\n",
       "      <td>2.000000</td>\n",
       "      <td>3606.500000</td>\n",
       "      <td>24.000000</td>\n",
       "    </tr>\n",
       "    <tr>\n",
       "      <th>max</th>\n",
       "      <td>75.000000</td>\n",
       "      <td>3.000000</td>\n",
       "      <td>18424.000000</td>\n",
       "      <td>60.000000</td>\n",
       "    </tr>\n",
       "  </tbody>\n",
       "</table>\n",
       "</div>"
      ],
      "text/plain": [
       "              Age         Job  Credit amount    Duration\n",
       "count  310.000000  310.000000     310.000000  310.000000\n",
       "mean    32.803226    1.835484    2877.774194   19.438710\n",
       "std     11.754363    0.674572    2603.141613   11.048047\n",
       "min     19.000000    0.000000     250.000000    4.000000\n",
       "25%     24.000000    2.000000    1247.500000   12.000000\n",
       "50%     29.000000    2.000000    1959.000000   18.000000\n",
       "75%     37.000000    2.000000    3606.500000   24.000000\n",
       "max     75.000000    3.000000   18424.000000   60.000000"
      ]
     },
     "execution_count": 5,
     "metadata": {},
     "output_type": "execute_result"
    }
   ],
   "source": [
    "ft.describe()"
   ]
  },
  {
   "cell_type": "code",
   "execution_count": 6,
   "id": "f404d068-da50-4b83-8881-960d5ac1725c",
   "metadata": {},
   "outputs": [
    {
     "data": {
      "text/html": [
       "<div>\n",
       "<style scoped>\n",
       "    .dataframe tbody tr th:only-of-type {\n",
       "        vertical-align: middle;\n",
       "    }\n",
       "\n",
       "    .dataframe tbody tr th {\n",
       "        vertical-align: top;\n",
       "    }\n",
       "\n",
       "    .dataframe thead th {\n",
       "        text-align: right;\n",
       "    }\n",
       "</style>\n",
       "<table border=\"1\" class=\"dataframe\">\n",
       "  <thead>\n",
       "    <tr style=\"text-align: right;\">\n",
       "      <th></th>\n",
       "      <th>Age</th>\n",
       "      <th>Job</th>\n",
       "      <th>Credit amount</th>\n",
       "      <th>Duration</th>\n",
       "    </tr>\n",
       "  </thead>\n",
       "  <tbody>\n",
       "    <tr>\n",
       "      <th>count</th>\n",
       "      <td>690.000000</td>\n",
       "      <td>690.000000</td>\n",
       "      <td>690.000000</td>\n",
       "      <td>690.000000</td>\n",
       "    </tr>\n",
       "    <tr>\n",
       "      <th>mean</th>\n",
       "      <td>36.778261</td>\n",
       "      <td>1.934783</td>\n",
       "      <td>3448.040580</td>\n",
       "      <td>21.560870</td>\n",
       "    </tr>\n",
       "    <tr>\n",
       "      <th>std</th>\n",
       "      <td>10.988784</td>\n",
       "      <td>0.642095</td>\n",
       "      <td>2900.483807</td>\n",
       "      <td>12.437941</td>\n",
       "    </tr>\n",
       "    <tr>\n",
       "      <th>min</th>\n",
       "      <td>20.000000</td>\n",
       "      <td>0.000000</td>\n",
       "      <td>276.000000</td>\n",
       "      <td>4.000000</td>\n",
       "    </tr>\n",
       "    <tr>\n",
       "      <th>25%</th>\n",
       "      <td>28.000000</td>\n",
       "      <td>2.000000</td>\n",
       "      <td>1442.500000</td>\n",
       "      <td>12.000000</td>\n",
       "    </tr>\n",
       "    <tr>\n",
       "      <th>50%</th>\n",
       "      <td>35.000000</td>\n",
       "      <td>2.000000</td>\n",
       "      <td>2443.500000</td>\n",
       "      <td>18.000000</td>\n",
       "    </tr>\n",
       "    <tr>\n",
       "      <th>75%</th>\n",
       "      <td>43.000000</td>\n",
       "      <td>2.000000</td>\n",
       "      <td>4266.250000</td>\n",
       "      <td>27.000000</td>\n",
       "    </tr>\n",
       "    <tr>\n",
       "      <th>max</th>\n",
       "      <td>75.000000</td>\n",
       "      <td>3.000000</td>\n",
       "      <td>15945.000000</td>\n",
       "      <td>72.000000</td>\n",
       "    </tr>\n",
       "  </tbody>\n",
       "</table>\n",
       "</div>"
      ],
      "text/plain": [
       "              Age         Job  Credit amount    Duration\n",
       "count  690.000000  690.000000     690.000000  690.000000\n",
       "mean    36.778261    1.934783    3448.040580   21.560870\n",
       "std     10.988784    0.642095    2900.483807   12.437941\n",
       "min     20.000000    0.000000     276.000000    4.000000\n",
       "25%     28.000000    2.000000    1442.500000   12.000000\n",
       "50%     35.000000    2.000000    2443.500000   18.000000\n",
       "75%     43.000000    2.000000    4266.250000   27.000000\n",
       "max     75.000000    3.000000   15945.000000   72.000000"
      ]
     },
     "execution_count": 6,
     "metadata": {},
     "output_type": "execute_result"
    }
   ],
   "source": [
    "mt.describe()"
   ]
  },
  {
   "cell_type": "markdown",
   "id": "4c8bc138-4323-4e8f-b0e1-f1ee10a9dce2",
   "metadata": {},
   "source": [
    "## Section 3"
   ]
  },
  {
   "cell_type": "markdown",
   "id": "e3c5c7c4-41de-417a-8222-f9dbaa909a41",
   "metadata": {},
   "source": [
    "### Data Preperation"
   ]
  },
  {
   "cell_type": "code",
   "execution_count": 7,
   "id": "9d3c2255-da21-45be-ba64-a42389ddbd5e",
   "metadata": {},
   "outputs": [],
   "source": [
    "from sklearn.svm import LinearSVC\n",
    "from sklearn import preprocessing\n",
    "from sklearn.model_selection import train_test_split\n",
    "import random\n",
    "#from sklearn.naive_bayes import MultinomialNB"
   ]
  },
  {
   "cell_type": "code",
   "execution_count": 8,
   "id": "ded644ee-c19b-41d2-b430-9bd5adc13d47",
   "metadata": {},
   "outputs": [],
   "source": [
    "preData.fillna(\"none\")\n",
    "\n",
    "#Age\n",
    "ageList = preData[\"Age\"]\n",
    "\n",
    "#Sex\n",
    "SLE = preprocessing.LabelEncoder()\n",
    "SLE.fit(preData[\"Sex\"])\n",
    "sexList = SLE.transform(preData[\"Sex\"])\n",
    "\n",
    "#Job\n",
    "jobList = preData[\"Job\"]\n",
    "\n",
    "#Housing\n",
    "HLE = preprocessing.LabelEncoder()\n",
    "HLE.fit(preData[\"Housing\"])\n",
    "houseList = HLE.transform(preData[\"Housing\"])\n",
    "\n",
    "#Saving\n",
    "SaLE = preprocessing.LabelEncoder()\n",
    "SaLE.fit(preData[\"Saving accounts\"])\n",
    "saveList = SaLE.transform(preData[\"Saving accounts\"])\n",
    "\n",
    "#Checking\n",
    "CLE = preprocessing.LabelEncoder()\n",
    "CLE.fit(preData[\"Checking account\"])\n",
    "checkList = CLE.transform(preData[\"Checking account\"])\n",
    "\n",
    "#Credit\n",
    "credList = preData[\"Credit amount\"]\n",
    "\n",
    "#Duration\n",
    "durList = preData[\"Duration\"]\n",
    "\n",
    "#Purpose\n",
    "PLE = preprocessing.LabelEncoder()\n",
    "PLE.fit(preData[\"Purpose\"])\n",
    "purList = PLE.transform(preData[\"Purpose\"])\n",
    "\n",
    "#Combine\n",
    "data = list(zip(ageList, sexList, jobList, houseList, saveList, checkList, credList, durList, purList))"
   ]
  },
  {
   "cell_type": "code",
   "execution_count": 9,
   "id": "37afd4db-32bb-42e5-a688-3342d8f2de74",
   "metadata": {},
   "outputs": [],
   "source": [
    "RLE = preprocessing.LabelEncoder()\n",
    "RLE.fit(preData[\"Risk\"])\n",
    "riskList = RLE.transform(preData[\"Risk\"])"
   ]
  },
  {
   "cell_type": "markdown",
   "id": "a69ff179-32e7-4a2b-975c-1f6e5e7ef11a",
   "metadata": {},
   "source": [
    "### Part 1"
   ]
  },
  {
   "cell_type": "code",
   "execution_count": 10,
   "id": "c16f11b4-9b13-4ac1-b342-c12272ec93e7",
   "metadata": {},
   "outputs": [],
   "source": [
    "dataTrain, dataTest, outTrain, outTest = train_test_split(data, riskList, test_size = .3)"
   ]
  },
  {
   "cell_type": "code",
   "execution_count": 11,
   "id": "794d8222-6dd2-489f-9db2-885604d24a91",
   "metadata": {},
   "outputs": [],
   "source": [
    "biased1 = LinearSVC(dual = False)\n",
    "#biased1 = MultinomialNB()"
   ]
  },
  {
   "cell_type": "code",
   "execution_count": 12,
   "id": "24bdca2c-3694-4d88-8618-8b66f0480c00",
   "metadata": {},
   "outputs": [
    {
     "data": {
      "text/plain": [
       "LinearSVC(dual=False)"
      ]
     },
     "execution_count": 12,
     "metadata": {},
     "output_type": "execute_result"
    }
   ],
   "source": [
    "biased1.fit(dataTrain, outTrain)"
   ]
  },
  {
   "cell_type": "code",
   "execution_count": 13,
   "id": "236d5b55-0e65-4628-a07e-40dc8ba602d3",
   "metadata": {},
   "outputs": [
    {
     "name": "stdout",
     "output_type": "stream",
     "text": [
      "0.76\n"
     ]
    }
   ],
   "source": [
    "score = biased1.score(dataTrain, outTrain)\n",
    "print(score)"
   ]
  },
  {
   "cell_type": "code",
   "execution_count": 14,
   "id": "fb8f6267-3b5a-4f08-9bda-6a1057a6c098",
   "metadata": {},
   "outputs": [
    {
     "name": "stdout",
     "output_type": "stream",
     "text": [
      "0.7133333333333334\n"
     ]
    }
   ],
   "source": [
    "score = biased1.score(dataTest, outTest)\n",
    "print(score)"
   ]
  },
  {
   "cell_type": "markdown",
   "id": "c062a8ec-2cc7-470b-9f9c-3f3860b43701",
   "metadata": {},
   "source": [
    "#### Testing for Bias"
   ]
  },
  {
   "cell_type": "code",
   "execution_count": 15,
   "id": "8ff23175-9d08-4b71-9083-e9b4ce7af9cf",
   "metadata": {},
   "outputs": [
    {
     "name": "stdout",
     "output_type": "stream",
     "text": [
      "[1]\n"
     ]
    }
   ],
   "source": [
    "print(biased1.predict([[19, 0, 1, 1, 1, 1, 1400, 9, 1]]))"
   ]
  },
  {
   "cell_type": "code",
   "execution_count": 16,
   "id": "74bd5aa6-ed66-4416-8304-80493411ff74",
   "metadata": {},
   "outputs": [],
   "source": [
    "Male = []\n",
    "Female = []\n",
    "\n",
    "for ageV in range(19, 76, 5):\n",
    "    for jobV in range(0, 4):\n",
    "        for houseV in range(0, 3):\n",
    "            for saveV in range(0, 5):\n",
    "                for checkV in range(0, 4):\n",
    "                    for credV in range(250, 18454, 250):\n",
    "                        for durV in range(6, 72, 5):\n",
    "                            for purV in range(0, 8):\n",
    "                                Male.append([ageV, 1, jobV, houseV, saveV, checkV, credV, durV, purV])\n",
    "                                Female.append([ageV, 0, jobV, houseV, saveV, checkV, credV, durV, purV])"
   ]
  },
  {
   "cell_type": "code",
   "execution_count": 17,
   "id": "357601fd-e0fc-4ee8-9444-b66a453a41f1",
   "metadata": {},
   "outputs": [],
   "source": [
    "mResults = biased1.predict(Male)\n",
    "fResults = biased1.predict(Female)"
   ]
  },
  {
   "cell_type": "code",
   "execution_count": 172,
   "id": "8d11e89f-0121-4c90-900d-07d667c34452",
   "metadata": {},
   "outputs": [
    {
     "name": "stdout",
     "output_type": "stream",
     "text": [
      "0.7212882980675147\n",
      "0.53448941006197\n"
     ]
    }
   ],
   "source": [
    "biased1ResultPercentageMale = ((mResults == 1).sum())/ len(mResults)\n",
    "biased1ResultPercentageFemale = ((fResults == 1).sum())/ len(fResults)\n",
    "print(biased1ResultPercentageMale)\n",
    "print(biased1ResultPercentageFemale)"
   ]
  },
  {
   "cell_type": "markdown",
   "id": "e59ea02a-959b-43ec-9381-dafeeb8ea14a",
   "metadata": {},
   "source": [
    "### Part 2"
   ]
  },
  {
   "cell_type": "code",
   "execution_count": 235,
   "id": "5891e8d9-4b64-4a9c-825f-c79d145b5b60",
   "metadata": {},
   "outputs": [],
   "source": [
    "fList = []\n",
    "fRes = []\n",
    "mList = []\n",
    "mRes = []\n",
    "\n",
    "dataTrain = []\n",
    "outTrain = []\n",
    "dataTest = []\n",
    "outTest = []\n",
    "\n",
    "for i in range(0, len(data)):\n",
    "    if (data[i][1] == 0):\n",
    "        fList.append(data[i])\n",
    "        fRes.append(riskList[i])\n",
    "    elif (data[i][1] == 1):\n",
    "        mList.append(data[i])\n",
    "        mRes.append(riskList[i])"
   ]
  },
  {
   "cell_type": "code",
   "execution_count": 236,
   "id": "abf0331c-8ac8-4c41-9ac2-551f6398d2fe",
   "metadata": {},
   "outputs": [],
   "source": [
    "data2 = []\n",
    "out2 = []\n",
    "\n",
    "Nos = random.sample(range(1, len(mList)), len(fList))\n",
    "\n",
    "for x in range(0, len(mList)):\n",
    "    if x in Nos:\n",
    "        data2.append(mList[x])\n",
    "        out2.append(mRes[x])\n",
    "        \n",
    "        \n",
    "data2 = data2 + fList\n",
    "out2 = out2 + fRes"
   ]
  },
  {
   "cell_type": "code",
   "execution_count": 237,
   "id": "e884d922-8462-4d49-9276-260d2a6dcb92",
   "metadata": {},
   "outputs": [],
   "source": [
    "dataTrain, dataTest, outTrain, outTest = train_test_split(data2, out2, test_size = .3, )"
   ]
  },
  {
   "cell_type": "code",
   "execution_count": 238,
   "id": "9dd17e7f-ad84-4f90-825b-ad6849200168",
   "metadata": {},
   "outputs": [],
   "source": [
    "biased2 = LinearSVC(dual = False)"
   ]
  },
  {
   "cell_type": "code",
   "execution_count": 239,
   "id": "56d7a3a0-22ef-4abb-9481-3bea5dbaa814",
   "metadata": {},
   "outputs": [
    {
     "data": {
      "text/plain": [
       "LinearSVC(dual=False)"
      ]
     },
     "execution_count": 239,
     "metadata": {},
     "output_type": "execute_result"
    }
   ],
   "source": [
    "biased2.fit(dataTrain, outTrain)"
   ]
  },
  {
   "cell_type": "code",
   "execution_count": 240,
   "id": "957d3714-e45c-4c53-87bb-f734ae370369",
   "metadata": {},
   "outputs": [
    {
     "name": "stdout",
     "output_type": "stream",
     "text": [
      "0.7327188940092166\n"
     ]
    }
   ],
   "source": [
    "score = biased2.score(dataTrain, outTrain)\n",
    "print(score)"
   ]
  },
  {
   "cell_type": "code",
   "execution_count": 241,
   "id": "34df4cd6-f606-43f8-8153-c23091b2cd03",
   "metadata": {},
   "outputs": [
    {
     "name": "stdout",
     "output_type": "stream",
     "text": [
      "0.6935483870967742\n"
     ]
    }
   ],
   "source": [
    "score = biased2.score(dataTest, outTest)\n",
    "print(score)"
   ]
  },
  {
   "cell_type": "markdown",
   "id": "1a8785a3-e356-4cb7-be81-2554877b37da",
   "metadata": {},
   "source": [
    "#### Testing for Bias"
   ]
  },
  {
   "cell_type": "code",
   "execution_count": 242,
   "id": "00e61470-1b3e-4f2b-b309-5f8fd87ba928",
   "metadata": {},
   "outputs": [],
   "source": [
    "mResults2 = biased2.predict(Male)\n",
    "fResults2 = biased2.predict(Female)"
   ]
  },
  {
   "cell_type": "code",
   "execution_count": 243,
   "id": "5f66ac9e-b8f9-4145-9a69-09d85b497534",
   "metadata": {},
   "outputs": [
    {
     "name": "stdout",
     "output_type": "stream",
     "text": [
      "0.756065644365623\n",
      "0.7140566818194173\n"
     ]
    }
   ],
   "source": [
    "biased2ResultPercentageMale = ((mResults2 == 1).sum())/ len(mResults2)\n",
    "biased2ResultPercentageFemale = ((fResults2 == 1).sum())/ len(fResults2)\n",
    "print(biased2ResultPercentageMale)\n",
    "print(biased2ResultPercentageFemale)"
   ]
  },
  {
   "cell_type": "markdown",
   "id": "1ba74032-8e69-4d5f-ac5a-8848459c4b5f",
   "metadata": {},
   "source": [
    "## Section 4"
   ]
  },
  {
   "cell_type": "code",
   "execution_count": 142,
   "id": "429f3b92-09fc-4513-b5fa-7dd8c5146edd",
   "metadata": {},
   "outputs": [
    {
     "name": "stdout",
     "output_type": "stream",
     "text": [
      "201\n",
      "109\n",
      "499\n",
      "191\n"
     ]
    }
   ],
   "source": [
    "fgList = []\n",
    "fbList = []\n",
    "mgList = []\n",
    "mbList = []\n",
    "\n",
    "dataTrain = []\n",
    "outTrain = []\n",
    "dataTest = []\n",
    "outTest = []\n",
    "\n",
    "for i in range(0, len(data)):\n",
    "    if (data[i][1] == 0) and riskList[i] == 1:\n",
    "        fgList.append(data[i])\n",
    "    elif (data[i][1] == 0) and riskList[i] == 0:\n",
    "        fbList.append(data[i])\n",
    "    elif (data[i][1] == 1) and riskList[i] == 1:\n",
    "        mgList.append(data[i])\n",
    "    elif (data[i][1] == 1) and riskList[i] == 0:\n",
    "        mbList.append(data[i])\n",
    "        \n",
    "print(len(fgList))\n",
    "print(len(fbList))\n",
    "print(len(mgList))\n",
    "print(len(mbList))"
   ]
  },
  {
   "cell_type": "code",
   "execution_count": 143,
   "id": "00de5c21-2e0d-4013-af91-a24ded9a3762",
   "metadata": {},
   "outputs": [
    {
     "name": "stdout",
     "output_type": "stream",
     "text": [
      "0.7\n"
     ]
    }
   ],
   "source": [
    "successRate = (riskList == 1).sum()/len(data)\n",
    "print(successRate)"
   ]
  },
  {
   "cell_type": "code",
   "execution_count": 159,
   "id": "ecec1b3a-bf6b-4764-9248-12caa7ffef39",
   "metadata": {},
   "outputs": [
    {
     "name": "stdout",
     "output_type": "stream",
     "text": [
      "140\n",
      "65\n"
     ]
    }
   ],
   "source": [
    "t = int(len(fgList) * 0.7)\n",
    "fgNos = random.sample(range(1, len(fgList)), t)\n",
    "print(len(fgNos))\n",
    "for x in range(0, len(fgList)):\n",
    "    if x in fgNos:\n",
    "        dataTrain.append(fgList[x])\n",
    "        outTrain.append(1)\n",
    "        dataTrain.append(fgList[x])\n",
    "        outTrain.append(1)\n",
    "    else:\n",
    "        dataTest.append(fgList[x])\n",
    "        outTest.append(1)\n",
    "        dataTest.append(fgList[x])\n",
    "        outTest.append(1)\n",
    "        \n",
    "        \n",
    "k = int((len(fgList) + len(fbList)) * (1 - successRate))\n",
    "#fbList = random.sample(fbList, k)\n",
    "\n",
    "fbNos = random.sample(range(1, len(fbList)), int(k * 0.7))\n",
    "print(len(fbNos))\n",
    "for x in range(0, len(fbList)):\n",
    "    if x in fbNos:\n",
    "        dataTrain.append(fbList[x])\n",
    "        outTrain.append(0)\n",
    "    else:\n",
    "        dataTest.append(fbList[x])\n",
    "        outTest.append(0)"
   ]
  },
  {
   "cell_type": "code",
   "execution_count": 160,
   "id": "5b8ea103-63b2-41bb-b1d9-82c3e02d26d9",
   "metadata": {},
   "outputs": [
    {
     "name": "stdout",
     "output_type": "stream",
     "text": [
      "133\n",
      "337\n"
     ]
    }
   ],
   "source": [
    "t = int(len(mbList) * 0.7)\n",
    "mbNos = random.sample(range(1, len(mbList)), t)\n",
    "print(len(mbNos))\n",
    "for x in range(0, len(mbList)):\n",
    "    if x in mbNos:\n",
    "        dataTrain.append(mbList[x])\n",
    "        outTrain.append(0)\n",
    "    else:\n",
    "        dataTest.append(mbList[x])\n",
    "        outTest.append(0)\n",
    "        \n",
    "        \n",
    "k = int((len(mgList) + len(mbList)) * (successRate))\n",
    "#fbList = random.sample(fbList, k)\n",
    "\n",
    "mgNos = random.sample(range(1, len(mgList)), int(k * 0.7))\n",
    "print(len(mgNos))\n",
    "for x in range(0, len(mgList)):\n",
    "    if x in mgNos:\n",
    "        dataTrain.append(mgList[x])\n",
    "        outTrain.append(1)\n",
    "    else:\n",
    "        dataTest.append(mgList[x])\n",
    "        outTest.append(1)"
   ]
  },
  {
   "cell_type": "code",
   "execution_count": 161,
   "id": "0140ae7e-9646-446e-8db1-0ee431c59dd2",
   "metadata": {},
   "outputs": [],
   "source": [
    "unbiased = LinearSVC(dual = False)"
   ]
  },
  {
   "cell_type": "code",
   "execution_count": 162,
   "id": "cf5fbd61-3390-40b4-9375-939924cb728f",
   "metadata": {},
   "outputs": [
    {
     "data": {
      "text/plain": [
       "LinearSVC(dual=False)"
      ]
     },
     "execution_count": 162,
     "metadata": {},
     "output_type": "execute_result"
    }
   ],
   "source": [
    "unbiased.fit(dataTrain, outTrain)"
   ]
  },
  {
   "cell_type": "code",
   "execution_count": 163,
   "id": "fcdeb601-e9e1-4799-874e-411d6fb8756f",
   "metadata": {},
   "outputs": [
    {
     "name": "stdout",
     "output_type": "stream",
     "text": [
      "0.7457227138643068\n"
     ]
    }
   ],
   "source": [
    "score = unbiased.score(dataTrain, outTrain)\n",
    "print(score)"
   ]
  },
  {
   "cell_type": "code",
   "execution_count": 164,
   "id": "cf672023-d0c0-4c91-89b2-39cd4ee72758",
   "metadata": {},
   "outputs": [
    {
     "name": "stdout",
     "output_type": "stream",
     "text": [
      "0.7328431372549019\n"
     ]
    }
   ],
   "source": [
    "score = unbiased.score(dataTest, outTest)\n",
    "print(score)"
   ]
  },
  {
   "cell_type": "markdown",
   "id": "f24b508a-0187-48be-971e-d79ba133cc4b",
   "metadata": {},
   "source": [
    "#### Testing for Bias"
   ]
  },
  {
   "cell_type": "code",
   "execution_count": 244,
   "id": "beddcbf1-e3ad-4a67-bd50-8e2bc6142c3e",
   "metadata": {},
   "outputs": [],
   "source": [
    "mResults3 = unbiased.predict(Male)\n",
    "fResults3 = unbiased.predict(Female)"
   ]
  },
  {
   "cell_type": "code",
   "execution_count": 245,
   "id": "e2ea64ee-5cbb-4fa3-9361-9c545933890a",
   "metadata": {},
   "outputs": [
    {
     "name": "stdout",
     "output_type": "stream",
     "text": [
      "0.731527149244401\n",
      "0.7276308793351816\n"
     ]
    }
   ],
   "source": [
    "unbiasedResultPercentageMale = ((mResults3 == 1).sum())/ len(mResults3)\n",
    "unbiasedResultPercentageFemale = ((fResults3 == 1).sum())/ len(fResults3)\n",
    "print(unbiasedResultPercentageMale)\n",
    "print(unbiasedResultPercentageFemale)"
   ]
  },
  {
   "cell_type": "markdown",
   "id": "7f471658-b1ab-4839-b393-4a48167e3147",
   "metadata": {},
   "source": [
    "## Results"
   ]
  },
  {
   "cell_type": "code",
   "execution_count": 246,
   "id": "ebdb9ebb-8281-4936-a7da-5abe24dfad61",
   "metadata": {},
   "outputs": [
    {
     "name": "stdout",
     "output_type": "stream",
     "text": [
      "      Model  Success rate     Sex\n",
      "0   Biased1      0.721288    Male\n",
      "1   Biased1      0.534489  Female\n",
      "2   Biased2      0.756066    Male\n",
      "3   Biased2      0.714057  Female\n",
      "4  Unbiased      0.731527    Male\n",
      "5  Unbiased      0.727631  Female\n"
     ]
    }
   ],
   "source": [
    "resultsTemp = {'Model': [\"Biased1\", \"Biased1\", \"Biased2\", \"Biased2\", \"Unbiased\", \"Unbiased\"], 'Success rate': [biased1ResultPercentageMale, biased1ResultPercentageFemale, biased2ResultPercentageMale, biased2ResultPercentageFemale, unbiasedResultPercentageMale, unbiasedResultPercentageFemale], 'Sex': [\"Male\", \"Female\", \"Male\", \"Female\", \"Male\", \"Female\"]}\n",
    "\n",
    "results = pd.DataFrame(data=resultsTemp)\n",
    "print(results)"
   ]
  },
  {
   "cell_type": "code",
   "execution_count": 247,
   "id": "5fe93816-d61b-4533-ae5a-4873af4fe633",
   "metadata": {},
   "outputs": [
    {
     "data": {
      "image/png": "[encoded data removed]",
      "text/plain": [
       "<Figure size 508.35x432 with 1 Axes>"
      ]
     },
     "metadata": {},
     "output_type": "display_data"
    }
   ],
   "source": [
    "sns.set_theme(style=\"whitegrid\")\n",
    "\n",
    "g = sns.catplot(\n",
    "    data=results, kind=\"bar\",\n",
    "    x=\"Model\", y=\"Success rate\", hue=\"Sex\",\n",
    "    ci=\"sd\", palette=\"dark\", alpha=.6, height=6\n",
    ")\n",
    "g.despine(left=True)\n",
    "g.set_axis_labels(\"Model\", \"Success Rate\")\n",
    "g.legend.set_title(\"Sex\")\n"
   ]
  },
  {
   "cell_type": "code",
   "execution_count": 252,
   "id": "b124f896-1166-401d-b0a8-6d1f9394f64b",
   "metadata": {},
   "outputs": [],
   "source": [
    "g.savefig(\"output.png\")"
   ]
  },
  {
   "cell_type": "code",
   "execution_count": 248,
   "id": "218a94d8-b0b0-4819-b214-20712840e28e",
   "metadata": {},
   "outputs": [
    {
     "name": "stdout",
     "output_type": "stream",
     "text": [
      "      Model  Success rate\n",
      "0   Biased1      0.186799\n",
      "1   Biased2      0.042009\n",
      "2  Unbiased      0.003896\n"
     ]
    }
   ],
   "source": [
    "resultsTemp = {'Model': [\"Biased1\", \"Biased2\", \"Unbiased\"], 'Success rate': [biased1ResultPercentageMale - biased1ResultPercentageFemale, biased2ResultPercentageMale - biased2ResultPercentageFemale, unbiasedResultPercentageMale - unbiasedResultPercentageFemale]}\n",
    "\n",
    "resultsB = pd.DataFrame(data=resultsTemp)\n",
    "print(resultsB)"
   ]
  },
  {
   "cell_type": "code",
   "execution_count": 255,
   "id": "b240d634-38e9-441c-b3df-43fcb7af309f",
   "metadata": {},
   "outputs": [
    {
     "data": {
      "text/plain": [
       "<seaborn.axisgrid.FacetGrid at 0x1152a8b1ac0>"
      ]
     },
     "execution_count": 255,
     "metadata": {},
     "output_type": "execute_result"
    },
    {
     "data": {
      "image/png": "[encoded data removed]",
      "text/plain": [
       "<Figure size 432x432 with 1 Axes>"
      ]
     },
     "metadata": {},
     "output_type": "display_data"
    }
   ],
   "source": [
    "sns.set_theme(style=\"whitegrid\")\n",
    "\n",
    "g = sns.catplot(\n",
    "    data=resultsB, kind=\"bar\",\n",
    "    x=\"Model\", y=\"Success rate\",\n",
    "    ci=\"sd\", palette=\"dark\", alpha=.6, height=6\n",
    ")\n",
    "g.despine(left=True)\n",
    "g.set_axis_labels(\"Model\", \"Success Rate Difference\")"
   ]
  },
  {
   "cell_type": "code",
   "execution_count": 256,
   "id": "663038ef-eca1-4198-beee-fab9f12edf9e",
   "metadata": {},
   "outputs": [],
   "source": [
    "g.savefig(\"output2.png\")"
   ]
  },
  {
   "cell_type": "code",
   "execution_count": null,
   "id": "14ba64d8-d868-48a8-9bed-98f7c8a20f85",
   "metadata": {},
   "outputs": [],
   "source": []
  }
 ],
 "metadata": {
  "kernelspec": {
   "display_name": "Python 3",
   "language": "python",
   "name": "python3"
  },
  "language_info": {
   "codemirror_mode": {
    "name": "ipython",
    "version": 3
   },
   "file_extension": ".py",
   "mimetype": "text/x-python",
   "name": "python",
   "nbconvert_exporter": "python",
   "pygments_lexer": "ipython3",
   "version": "3.8.8"
  }
 },
 "nbformat": 4,
 "nbformat_minor": 5
}
